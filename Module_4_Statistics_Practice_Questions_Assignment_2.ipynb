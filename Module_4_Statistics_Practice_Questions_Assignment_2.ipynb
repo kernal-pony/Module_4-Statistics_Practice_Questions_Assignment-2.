{
  "cells": [
    {
      "cell_type": "markdown",
      "metadata": {
        "id": "3BuYUL-KvFKd"
      },
      "source": [
        "Q1. Generate a list of 100 integers containing values between 90 to 130 and store it in the variable `int_list`.\n",
        "\n",
        "After generating the list, find the following:"
      ]
    },
    {
      "cell_type": "code",
      "execution_count": null,
      "metadata": {
        "id": "nbr_Y-8ksW6X"
      },
      "outputs": [],
      "source": [
        "import random\n",
        "\n",
        "int_list = []\n",
        "for i in range(100):\n",
        "  int_list.append(random.randint(90,130))\n"
      ]
    },
    {
      "cell_type": "code",
      "execution_count": null,
      "metadata": {
        "colab": {
          "base_uri": "https://localhost:8080/"
        },
        "id": "EdERg7FQvTxP",
        "outputId": "cd1bf32e-45c6-4f3d-c73a-8dd3aab50135"
      },
      "outputs": [
        {
          "data": {
            "text/plain": [
              "[124,\n",
              " 117,\n",
              " 128,\n",
              " 97,\n",
              " 129,\n",
              " 117,\n",
              " 112,\n",
              " 91,\n",
              " 109,\n",
              " 112,\n",
              " 98,\n",
              " 105,\n",
              " 107,\n",
              " 111,\n",
              " 106,\n",
              " 119,\n",
              " 115,\n",
              " 120,\n",
              " 97,\n",
              " 103,\n",
              " 129,\n",
              " 99,\n",
              " 100,\n",
              " 102,\n",
              " 102,\n",
              " 111,\n",
              " 114,\n",
              " 95,\n",
              " 108,\n",
              " 95,\n",
              " 108,\n",
              " 127,\n",
              " 107,\n",
              " 112,\n",
              " 124,\n",
              " 93,\n",
              " 120,\n",
              " 130,\n",
              " 130,\n",
              " 106,\n",
              " 114,\n",
              " 91,\n",
              " 128,\n",
              " 118,\n",
              " 127,\n",
              " 97,\n",
              " 122,\n",
              " 114,\n",
              " 99,\n",
              " 115,\n",
              " 113,\n",
              " 100,\n",
              " 128,\n",
              " 127,\n",
              " 126,\n",
              " 128,\n",
              " 117,\n",
              " 99,\n",
              " 107,\n",
              " 118,\n",
              " 122,\n",
              " 117,\n",
              " 97,\n",
              " 103,\n",
              " 95,\n",
              " 115,\n",
              " 130,\n",
              " 128,\n",
              " 101,\n",
              " 128,\n",
              " 95,\n",
              " 123,\n",
              " 96,\n",
              " 95,\n",
              " 117,\n",
              " 118,\n",
              " 120,\n",
              " 116,\n",
              " 107,\n",
              " 130,\n",
              " 99,\n",
              " 126,\n",
              " 103,\n",
              " 91,\n",
              " 102,\n",
              " 103,\n",
              " 117,\n",
              " 115,\n",
              " 96,\n",
              " 113,\n",
              " 99,\n",
              " 102,\n",
              " 101,\n",
              " 123,\n",
              " 96,\n",
              " 96,\n",
              " 97,\n",
              " 95,\n",
              " 128,\n",
              " 130]"
            ]
          },
          "execution_count": 4,
          "metadata": {},
          "output_type": "execute_result"
        }
      ],
      "source": [
        "int_list"
      ]
    },
    {
      "cell_type": "code",
      "execution_count": null,
      "metadata": {
        "colab": {
          "base_uri": "https://localhost:8080/"
        },
        "id": "AI7lwxy9wKuk",
        "outputId": "61bd5882-e520-44c8-f287-e1efd69237df"
      },
      "outputs": [
        {
          "name": "stdout",
          "output_type": "stream",
          "text": [
            "Mean: 111.02\n"
          ]
        }
      ],
      "source": [
        "# (i) Write a Python function to calculate the mean of a given list of numbers.\n",
        "def calculate_mean(numbers):\n",
        "\n",
        "  return sum(numbers) / len(numbers)\n",
        "\n",
        "# Test the function\n",
        "mean_value = calculate_mean(int_list)\n",
        "print(\"Mean:\", mean_value)"
      ]
    },
    {
      "cell_type": "code",
      "execution_count": null,
      "metadata": {
        "colab": {
          "base_uri": "https://localhost:8080/"
        },
        "id": "-9q1VdVXwncw",
        "outputId": "7d00c61f-f408-489b-e226-0f0094e0afa0"
      },
      "outputs": [
        {
          "name": "stdout",
          "output_type": "stream",
          "text": [
            "Median: 112.0\n"
          ]
        }
      ],
      "source": [
        "# Create a function to find the median of a list of numbers\n",
        "def calculate_median(numbers):\n",
        "    sorted_numbers = sorted(numbers)\n",
        "    n = len(sorted_numbers)\n",
        "    middle = n // 2\n",
        "\n",
        "    if n % 2 == 0:\n",
        "        return (sorted_numbers[middle - 1] + sorted_numbers[middle]) / 2\n",
        "    else:\n",
        "        return sorted_numbers[middle]\n",
        "\n",
        "# Test the function\n",
        "median_value = calculate_median(int_list)\n",
        "print(\"Median:\", median_value)\n"
      ]
    },
    {
      "cell_type": "code",
      "execution_count": null,
      "metadata": {
        "colab": {
          "base_uri": "https://localhost:8080/"
        },
        "id": "-4-2r28OxHQA",
        "outputId": "eaf9fbc9-048a-4845-c3a1-22e665c8724a"
      },
      "outputs": [
        {
          "name": "stdout",
          "output_type": "stream",
          "text": [
            "Mode: 128\n",
            "counter: 7\n"
          ]
        }
      ],
      "source": [
        "#  (ii) Develop a program to compute the mode of a list of integers\n",
        "\n",
        "def calculate_mode(numbers):\n",
        "  counter = 0\n",
        "  for num in numbers:\n",
        "    count = numbers.count(num)\n",
        "    if count > counter:\n",
        "      counter = count\n",
        "      mode = num\n",
        "  return mode, counter\n",
        "# Test the function\n",
        "mode_value, counter_value = calculate_mode(int_list)\n",
        "print(\"Mode:\", mode_value,)\n",
        "print(\"counter:\", counter_value)\n"
      ]
    },
    {
      "cell_type": "code",
      "execution_count": null,
      "metadata": {
        "colab": {
          "base_uri": "https://localhost:8080/"
        },
        "id": "1HdKgrLvxgOM",
        "outputId": "aa97f7b4-3947-4f9a-a7c4-a3727393279f"
      },
      "outputs": [
        {
          "name": "stdout",
          "output_type": "stream",
          "text": [
            "Weighted Mean: 112.84615384615384\n"
          ]
        }
      ],
      "source": [
        "#  (iii) Implement a function to calculate the weighted mean of a list of values and their corresponding weights.\n",
        "def calculate_weighted_mean(values, weights):\n",
        "    weighted_sum = sum(v * w for v, w in zip(values, weights))\n",
        "    total_weight = sum(weights)\n",
        "    return weighted_sum / total_weight\n",
        "\n",
        "\n",
        "weighted_mean_value = calculate_weighted_mean(int_list, weights)\n",
        "print(\"Weighted Mean:\", weighted_mean_value)\n"
      ]
    },
    {
      "cell_type": "code",
      "execution_count": null,
      "metadata": {
        "colab": {
          "base_uri": "https://localhost:8080/"
        },
        "id": "MqXM_Eiuz_MU",
        "outputId": "e80b82c3-3644-4d69-a960-6a7dcf040dae"
      },
      "outputs": [
        {
          "name": "stdout",
          "output_type": "stream",
          "text": [
            "Geometric Mean: 110.37090682178811\n"
          ]
        }
      ],
      "source": [
        "#   (iv) Write a Python function to find the geometric mean of a list of positive numbers.\n",
        "import math\n",
        "\n",
        "def geometric_mean(numbers):\n",
        "    product = 1\n",
        "    for num in numbers:\n",
        "        product *= num\n",
        "    return math.pow(product, 1/len(numbers))\n",
        "\n",
        "geometric_mean_value = geometric_mean(int_list)\n",
        "print(\"Geometric Mean:\", geometric_mean_value)"
      ]
    },
    {
      "cell_type": "code",
      "execution_count": null,
      "metadata": {
        "colab": {
          "base_uri": "https://localhost:8080/"
        },
        "id": "rwyC0hIi3xad",
        "outputId": "f4a4ebab-1960-4237-f67d-955e505b74c0"
      },
      "outputs": [
        {
          "name": "stdout",
          "output_type": "stream",
          "text": [
            "Harmonic Mean: 109.72349198562276\n"
          ]
        }
      ],
      "source": [
        "#   (v) Create a program to calculate the harmonic mean of a list of values.\n",
        "def harmonic_mean(numbers):\n",
        "    return len(numbers) / sum(1/num for num in numbers)\n",
        "\n",
        "harmonic_mean_value = harmonic_mean(int_list)\n",
        "print(\"Harmonic Mean:\", harmonic_mean_value)"
      ]
    },
    {
      "cell_type": "code",
      "execution_count": null,
      "metadata": {
        "colab": {
          "base_uri": "https://localhost:8080/"
        },
        "id": "mGwZ0uxr4Mle",
        "outputId": "4b3a9ea0-304c-4150-8bdc-1c3193e72799"
      },
      "outputs": [
        {
          "name": "stdout",
          "output_type": "stream",
          "text": [
            "Midrange: 110.5\n"
          ]
        }
      ],
      "source": [
        "#  (vi) Build a function to determine the midrange of a list of numbers (average of the minimum and maximum).\n",
        "def calculate_midrange(numbers):\n",
        "    return (min(numbers) + max(numbers)) / 2\n",
        "\n",
        "midrange_value = calculate_midrange(int_list)\n",
        "print(\"Midrange:\", midrange_value)\n"
      ]
    },
    {
      "cell_type": "code",
      "execution_count": null,
      "metadata": {
        "colab": {
          "base_uri": "https://localhost:8080/"
        },
        "id": "_kosSL-q4bDm",
        "outputId": "53d4558d-4963-48ac-88b8-fa0e27d415a9"
      },
      "outputs": [
        {
          "name": "stdout",
          "output_type": "stream",
          "text": [
            "Trimmed Mean: 110.925\n"
          ]
        }
      ],
      "source": [
        "# (vii) Implement a Python program to find the trimmed mean of a list, excluding a certain percentage of outliers.\n",
        "def trimmed_mean(numbers, percentage):\n",
        "    numbers.sort()\n",
        "    outliers = int(len(numbers) * percentage)\n",
        "    trimmed_list = numbers[outliers:-outliers]\n",
        "    return sum(trimmed_list) / len(trimmed_list)\n",
        "\n",
        "trimmed_mean_value = trimmed_mean(int_list, 0.1)\n",
        "print(\"Trimmed Mean:\", trimmed_mean_value)"
      ]
    },
    {
      "cell_type": "code",
      "execution_count": null,
      "metadata": {
        "id": "BCDnimE95GOc"
      },
      "outputs": [],
      "source": []
    },
    {
      "cell_type": "code",
      "execution_count": null,
      "metadata": {
        "id": "Tc2sorbO-EbR"
      },
      "outputs": [],
      "source": []
    },
    {
      "cell_type": "markdown",
      "metadata": {
        "id": "6u1bG-in-GMS"
      },
      "source": [
        " 2. Generate a list of 500 integers containing values between 200 to 300 and store it in the variable `int_list2`.\n",
        "After generating the list, find the following:"
      ]
    },
    {
      "cell_type": "code",
      "execution_count": null,
      "metadata": {
        "id": "f54tHCwc-O2w"
      },
      "outputs": [],
      "source": [
        "import random\n",
        "\n",
        "int_list2 = []\n",
        "for i in range(100):\n",
        "  int_list2.append(random.randint(200,300))"
      ]
    },
    {
      "cell_type": "code",
      "execution_count": null,
      "metadata": {
        "colab": {
          "base_uri": "https://localhost:8080/"
        },
        "id": "_k-9CKGK-eoX",
        "outputId": "e272e413-b03d-41f1-9717-577d7c8fd98f"
      },
      "outputs": [
        {
          "data": {
            "text/plain": [
              "[231,\n",
              " 253,\n",
              " 219,\n",
              " 260,\n",
              " 258,\n",
              " 221,\n",
              " 298,\n",
              " 233,\n",
              " 266,\n",
              " 296,\n",
              " 245,\n",
              " 200,\n",
              " 256,\n",
              " 264,\n",
              " 284,\n",
              " 236,\n",
              " 281,\n",
              " 212,\n",
              " 284,\n",
              " 210,\n",
              " 204,\n",
              " 234,\n",
              " 255,\n",
              " 217,\n",
              " 227,\n",
              " 293,\n",
              " 213,\n",
              " 268,\n",
              " 286,\n",
              " 216,\n",
              " 278,\n",
              " 239,\n",
              " 219,\n",
              " 221,\n",
              " 291,\n",
              " 249,\n",
              " 268,\n",
              " 270,\n",
              " 233,\n",
              " 297,\n",
              " 218,\n",
              " 216,\n",
              " 211,\n",
              " 254,\n",
              " 213,\n",
              " 296,\n",
              " 231,\n",
              " 203,\n",
              " 238,\n",
              " 271,\n",
              " 262,\n",
              " 248,\n",
              " 251,\n",
              " 269,\n",
              " 210,\n",
              " 210,\n",
              " 272,\n",
              " 290,\n",
              " 278,\n",
              " 224,\n",
              " 249,\n",
              " 214,\n",
              " 233,\n",
              " 209,\n",
              " 297,\n",
              " 229,\n",
              " 250,\n",
              " 222,\n",
              " 268,\n",
              " 266,\n",
              " 257,\n",
              " 262,\n",
              " 276,\n",
              " 280,\n",
              " 298,\n",
              " 206,\n",
              " 221,\n",
              " 218,\n",
              " 232,\n",
              " 271,\n",
              " 251,\n",
              " 230,\n",
              " 200,\n",
              " 221,\n",
              " 238,\n",
              " 237,\n",
              " 249,\n",
              " 269,\n",
              " 264,\n",
              " 241,\n",
              " 216,\n",
              " 284,\n",
              " 227,\n",
              " 263,\n",
              " 246,\n",
              " 211,\n",
              " 247,\n",
              " 286,\n",
              " 247,\n",
              " 221]"
            ]
          },
          "execution_count": 41,
          "metadata": {},
          "output_type": "execute_result"
        }
      ],
      "source": [
        "int_list2"
      ]
    },
    {
      "cell_type": "code",
      "execution_count": null,
      "metadata": {
        "colab": {
          "base_uri": "https://localhost:8080/",
          "height": 1000
        },
        "id": "wTa0j7B2-ivO",
        "outputId": "f25930c9-b782-414c-e372-82072739302a"
      },
      "outputs": [
        {
          "data": {
            "image/png": "[encoded data removed]",
            "text/plain": [
              "<Figure size 1000x600 with 1 Axes>"
            ]
          },
          "metadata": {},
          "output_type": "display_data"
        },
        {
          "data": {
            "image/png": "[encoded data removed]",
            "text/plain": [
              "<Figure size 1000x600 with 1 Axes>"
            ]
          },
          "metadata": {},
          "output_type": "display_data"
        },
        {
          "data": {
            "image/png": "[encoded data removed]",
            "text/plain": [
              "<Figure size 1000x600 with 1 Axes>"
            ]
          },
          "metadata": {},
          "output_type": "display_data"
        }
      ],
      "source": [
        "#  (i) Compare the given list of visualization for the given data:\n",
        "\n",
        "#     1. Frequency & Gaussian distribution\n",
        "\n",
        "#     2. Frequency smoothened KDE plot\n",
        "\n",
        "#     3. Gaussian distribution & smoothened KDE plot\n",
        "\n",
        "import matplotlib.pyplot as plt\n",
        "import seaborn as sns\n",
        "import numpy as np\n",
        "from scipy.stats import norm\n",
        "\n",
        "# Frequency & Gaussian distribution\n",
        "plt.figure(figsize=(10, 6))\n",
        "sns.histplot(int_list2, kde=False, stat='density', bins=30, color='skyblue', label='Frequency')\n",
        "xmin, xmax = plt.xlim()\n",
        "x = np.linspace(xmin, xmax, 100)\n",
        "p = norm.pdf(x, np.mean(int_list2), np.std(int_list2))\n",
        "plt.plot(x, p, 'k', linewidth=2, label='Gaussian distribution')\n",
        "plt.legend()\n",
        "plt.title('Frequency & Gaussian Distribution')\n",
        "plt.show()\n",
        "\n",
        "# Frequency smoothened KDE plot\n",
        "plt.figure(figsize=(10, 6))\n",
        "sns.kdeplot(int_list2, color='blue', fill=True, linewidth=2)\n",
        "plt.title('Frequency Smoothened KDE Plot')\n",
        "plt.show()\n",
        "\n",
        "# Gaussian distribution & smoothened KDE plot\n",
        "plt.figure(figsize=(10, 6))\n",
        "sns.kdeplot(int_list2, color='blue', fill=True, linewidth=2)\n",
        "p = norm.pdf(x, np.mean(int_list2), np.std(int_list2))\n",
        "plt.plot(x, p, 'k', linewidth=2, label='Gaussian distribution')\n",
        "plt.legend()\n",
        "plt.title('Gaussian Distribution & Smoothened KDE Plot')\n",
        "plt.show()\n"
      ]
    },
    {
      "cell_type": "code",
      "execution_count": null,
      "metadata": {
        "colab": {
          "base_uri": "https://localhost:8080/"
        },
        "id": "9IF5bRD-AN5p",
        "outputId": "874c1768-0f44-42f4-acd9-814b8bffe847"
      },
      "outputs": [
        {
          "name": "stdout",
          "output_type": "stream",
          "text": [
            "Range of the list: 98\n"
          ]
        }
      ],
      "source": [
        "  # (ii) Write a Python function to calculate the range of a given list of numbers.\n",
        "def calculate_range(numbers):\n",
        "    return max(numbers) - min(numbers)\n",
        "\n",
        "range_value = calculate_range(int_list2)\n",
        "print(f\"Range of the list: {range_value}\")\n"
      ]
    },
    {
      "cell_type": "code",
      "execution_count": null,
      "metadata": {
        "colab": {
          "base_uri": "https://localhost:8080/"
        },
        "id": "eoLkieqdA-is",
        "outputId": "83692eac-ba58-4e7f-8dc3-1cb04a54c4e1"
      },
      "outputs": [
        {
          "name": "stdout",
          "output_type": "stream",
          "text": [
            "Variance: 779.3463999999999, Standard Deviation: 27.916776318192614\n"
          ]
        }
      ],
      "source": [
        "#   (iii) Create a program to find the variance and standard deviation of a list of numbers.\n",
        "\n",
        "import numpy as np\n",
        "\n",
        "def calculate_variance_and_sd(numbers):\n",
        "    variance = np.var(numbers)\n",
        "    std_dev = np.std(numbers)\n",
        "    return variance, std_dev\n",
        "\n",
        "variance, std_dev = calculate_variance_and_sd(int_list2)\n",
        "print(f\"Variance: {variance}, Standard Deviation: {std_dev}\")\n"
      ]
    },
    {
      "cell_type": "code",
      "execution_count": null,
      "metadata": {
        "colab": {
          "base_uri": "https://localhost:8080/"
        },
        "id": "tNEOb95jBLMF",
        "outputId": "ccd4f03e-5b7c-48e4-9ceb-b83584606e2f"
      },
      "outputs": [
        {
          "name": "stdout",
          "output_type": "stream",
          "text": [
            "Interquartile Range (IQR): 47.25\n"
          ]
        }
      ],
      "source": [
        "#   (iv) Implement a function to compute the interquartile range (IQR) of a list of values.\n",
        "def calculate_iqr(numbers):\n",
        "    Q1 = np.percentile(numbers, 25)\n",
        "    Q3 = np.percentile(numbers, 75)\n",
        "    IQR = Q3 - Q1\n",
        "    return IQR\n",
        "\n",
        "iqr_value = calculate_iqr(int_list2)\n",
        "print(f\"Interquartile Range (IQR): {iqr_value}\")\n"
      ]
    },
    {
      "cell_type": "code",
      "execution_count": null,
      "metadata": {
        "colab": {
          "base_uri": "https://localhost:8080/"
        },
        "id": "CO72Ng6YBbc-",
        "outputId": "a9f52733-6321-4a8b-e41b-16900ddbc13e"
      },
      "outputs": [
        {
          "name": "stdout",
          "output_type": "stream",
          "text": [
            "Coefficient of Variation: 11.322508240668647%\n"
          ]
        }
      ],
      "source": [
        "# (v) Build a program to calculate the coefficient of variation for a dataset\n",
        "def calculate_coefficient_of_variation(numbers):\n",
        "    mean = np.mean(numbers)\n",
        "    std_dev = np.std(numbers)\n",
        "    cv = (std_dev / mean) * 100\n",
        "    return cv\n",
        "\n",
        "cv_value = calculate_coefficient_of_variation(int_list2)\n",
        "print(f\"Coefficient of Variation: {cv_value}%\")\n"
      ]
    },
    {
      "cell_type": "code",
      "execution_count": null,
      "metadata": {
        "colab": {
          "base_uri": "https://localhost:8080/"
        },
        "id": "x9CthnfIBk_P",
        "outputId": "2576b7a7-b5fe-49b9-f788-c1ef74bb2b6d"
      },
      "outputs": [
        {
          "name": "stdout",
          "output_type": "stream",
          "text": [
            "Mean Absolute Deviation (MAD): 24.108800000000002\n"
          ]
        }
      ],
      "source": [
        "#  (vi) Write a Python function to find the mean absolute deviation (MAD) of a list of numbers.\n",
        "def calculate_mad(numbers):\n",
        "  mad=[]\n",
        "  mean = np.mean(numbers)\n",
        "  for num in numbers:\n",
        "    mad.append(np.abs(num - mean))\n",
        "  mad = np.mean(mad)\n",
        "  return mad\n",
        "\n",
        "mad_value = calculate_mad(int_list2)\n",
        "print(f\"Mean Absolute Deviation (MAD): {mad_value}\")\n"
      ]
    },
    {
      "cell_type": "code",
      "execution_count": null,
      "metadata": {
        "colab": {
          "base_uri": "https://localhost:8080/"
        },
        "id": "FurrH2FsCp-0",
        "outputId": "52312d20-5819-4f91-f0c3-3f90b3f8a03d"
      },
      "outputs": [
        {
          "name": "stdout",
          "output_type": "stream",
          "text": [
            "Quartile Deviation: 23.625\n"
          ]
        }
      ],
      "source": [
        "# (vii) Create a program to calculate the quartile deviation of a list of values.)\n",
        "def calculate_quartile_deviation(numbers):\n",
        "    Q1 = np.percentile(numbers, 25)\n",
        "    Q3 = np.percentile(numbers, 75)\n",
        "    quartile_deviation = (Q3 - Q1) / 2\n",
        "    return quartile_deviation\n",
        "\n",
        "quartile_deviation_value = calculate_quartile_deviation(int_list2)\n",
        "print(f\"Quartile Deviation: {quartile_deviation_value}\")"
      ]
    },
    {
      "cell_type": "code",
      "execution_count": null,
      "metadata": {
        "colab": {
          "base_uri": "https://localhost:8080/"
        },
        "id": "K2LgnLGwCsdJ",
        "outputId": "f57e053a-ff56-4a56-a8fa-cbefb3d71437"
      },
      "outputs": [
        {
          "name": "stdout",
          "output_type": "stream",
          "text": [
            "Range-based Coefficient of Dispersion: 0.39746917585983127\n"
          ]
        }
      ],
      "source": [
        "#   (viii) Implement a function to find the range-based coefficient of dispersion for a dataset.\n",
        "\n",
        "def calculate_range_coefficient_of_dispersion(numbers):\n",
        "    range_value = max(numbers) - min(numbers)\n",
        "    mean = np.mean(numbers)\n",
        "    coefficient_of_dispersion = range_value / mean\n",
        "    return coefficient_of_dispersion\n",
        "\n",
        "cod_value = calculate_range_coefficient_of_dispersion(int_list2)\n",
        "print(f\"Range-based Coefficient of Dispersion: {cod_value}\")\n"
      ]
    },
    {
      "cell_type": "code",
      "execution_count": null,
      "metadata": {
        "id": "3Q-MRaanEQyd"
      },
      "outputs": [],
      "source": []
    },
    {
      "cell_type": "markdown",
      "metadata": {
        "id": "YCE2HT6dn6P7"
      },
      "source": [
        "# 3)  Write a Python class representing a discrete random variable with methods to calculate its expected value and variance."
      ]
    },
    {
      "cell_type": "code",
      "execution_count": null,
      "metadata": {
        "colab": {
          "base_uri": "https://localhost:8080/"
        },
        "id": "qBp33EK6GAg1",
        "outputId": "d932bec1-a983-485b-bed8-20e4c56c1353"
      },
      "outputs": [
        {
          "name": "stdout",
          "output_type": "stream",
          "text": [
            "Expected Value: 2.9000000000000004\n",
            "Variance: 0.8900000000000001\n"
          ]
        }
      ],
      "source": [
        "\n",
        "\n",
        "class DiscreteRandomVariable:\n",
        "    def __init__(self, values, probabilities):\n",
        "        # values: list of possible outcomes of the random variable\n",
        "        # probabilities: list of corresponding probabilities for each outcome\n",
        "        if len(values) != len(probabilities):\n",
        "            raise ValueError(\"The length of values and probabilities must be the same\")\n",
        "        if sum(probabilities) != 1:\n",
        "            raise ValueError(\"The sum of the probabilities must be 1\")\n",
        "\n",
        "        self.values = values\n",
        "        self.probabilities = probabilities\n",
        "\n",
        "    # Method to calculate expected value (E[X])\n",
        "    def expected_value(self):\n",
        "        return sum(x * p for x, p in zip(values, probabilities))\n",
        "\n",
        "    # Method to calculate variance (Var(X))\n",
        "    def variance(self):\n",
        "        # First, calculate the expected value\n",
        "        expected_val = self.expected_value()\n",
        "        # Then calculate the variance using the formula\n",
        "        return sum((x - expected_val) ** 2 * p for x, p in zip(values, probabilities))\n",
        "\n",
        "# Example usage:\n",
        "values = [1, 2, 3, 4]  # The random variable can take values 1, 2, 3, or 4\n",
        "probabilities = [0.1, 0.2, 0.4, 0.3]  # Corresponding probabilities for each value\n",
        "\n",
        "# Create an instance of the DiscreteRandomVariable class\n",
        "random_variable = DiscreteRandomVariable(values, probabilities)\n",
        "\n",
        "# Calculate the expected value and variance\n",
        "expected_val = random_variable.expected_value()\n",
        "variance_val = random_variable.variance()\n",
        "\n",
        "# Print the results\n",
        "print(f\"Expected Value: {expected_val}\")\n",
        "print(f\"Variance: {variance_val}\")\n",
        "\n"
      ]
    },
    {
      "cell_type": "code",
      "execution_count": null,
      "metadata": {
        "id": "GGauTXjYGG8i"
      },
      "outputs": [],
      "source": []
    },
    {
      "cell_type": "markdown",
      "metadata": {
        "id": "dTSY2eS-n9Ki"
      },
      "source": [
        "# 4) Implement a program to simulate the rolling of a fair six-sided die and calculate the expected value and  variance of the outcomes.\n"
      ]
    },
    {
      "cell_type": "code",
      "execution_count": null,
      "metadata": {
        "colab": {
          "base_uri": "https://localhost:8080/"
        },
        "id": "WJpDO70bIxsf",
        "outputId": "ebf05a33-b8e2-41d3-e544-82af4d52699b"
      },
      "outputs": [
        {
          "name": "stdout",
          "output_type": "stream",
          "text": [
            "Expected Value: 3.5\n",
            "Variance: 2.9166666666666665\n",
            "Simulated die roll: 5\n"
          ]
        }
      ],
      "source": [
        "import random\n",
        "\n",
        "def expected_value():\n",
        "    # The expected value for a fair 6-sided die is the average of all possible outcomes (1, 2, 3, 4, 5, 6)\n",
        "    return sum(range(1, 7)) / 6  # Sum of 1 to 6 divided by 6\n",
        "\n",
        "# Function to calculate variance of a fair 6-sided die\n",
        "def variance(expected_val):\n",
        "    # The variance is the average of the squared differences from the expected value\n",
        "    return sum((x - expected_val) ** 2 for x in range(1, 7)) / 6\n",
        "\n",
        "# Simulate a fair 6-sided die roll\n",
        "def roll_die():\n",
        "    return random.randint(1, 6)\n",
        "\n",
        "# Calculate expected value and variance\n",
        "expected_val = expected_value()\n",
        "var = variance(expected_val)\n",
        "\n",
        "# Output results\n",
        "print(f\"Expected Value: {expected_val}\")\n",
        "print(f\"Variance: {var}\")\n",
        "\n",
        "# Simulate a die roll (optional)\n",
        "roll = roll_die()\n",
        "print(f\"Simulated die roll: {roll}\")\n"
      ]
    },
    {
      "cell_type": "code",
      "execution_count": null,
      "metadata": {
        "id": "stlnEUarIxmm"
      },
      "outputs": [],
      "source": []
    },
    {
      "cell_type": "markdown",
      "metadata": {
        "id": "x3sSXfa3oAUJ"
      },
      "source": [
        "5) Create a Python function to generate random samples from a given probability distribution (e.g.,\n",
        "binomial, Poisson) and calculate their mean and variance."
      ]
    },
    {
      "cell_type": "code",
      "execution_count": null,
      "metadata": {
        "colab": {
          "base_uri": "https://localhost:8080/"
        },
        "id": "_MzUhjzenwW0",
        "outputId": "11ad1900-efe7-4a08-e1e6-ff0c2725478c"
      },
      "outputs": [
        {
          "name": "stdout",
          "output_type": "stream",
          "text": [
            "Binomial samples: [ 6  4  5  6  3  3  5  4  2  6  5  6  5  7  6  5  7  5  8  6  4  3  6  4\n",
            "  6  4  2  4  4  4  4  7  5  7  5  3  4  5  4  5  3  4  6  5  6  5  5  7\n",
            "  7  6  6  4  5  6  4  5  7  4  1  5  6  8  4  5  4  4  5  2  2  4  4  6\n",
            "  5  6  5  8  5  7  3  5  3  7  6  3  8  3  4  3 10  5  4  3  5  4  6  6\n",
            "  4  4  5  4]\n",
            "Mean: 4.972\n",
            "Variance: 2.5772160000000004\n",
            "Poisson samples: [ 4  7  8  9  8  6  8  6  8  8  6  6  1  6  6  5  6  4  3  4  3  6  4  7\n",
            "  7  5  4  4  6  4 11  6  6  4  2  6  6  3  4  5  4  3  5  7  4  8  8  4\n",
            "  6  9  3  5  3  3  6  6  8 12  9  4  4  7  8  8 10  3  4  6  5  4  6  7\n",
            "  5  3  9  8  6  5  3  7  6  7  4  4  3  5  5  5  5  2  5  3  4  7  7  5\n",
            "  4  4  5  7]\n",
            "Mean: 5.029\n",
            "Variance: 5.056159000000001\n"
          ]
        }
      ],
      "source": [
        "import numpy as np\n",
        "\n",
        "def generate_samples(distribution_type, n=10, p=0.5, lambda_=5, sample_size=1000):\n",
        "    if distribution_type == 'binomial':\n",
        "        samples = np.random.binomial(n, p, sample_size)  # Generate samples for Binomial\n",
        "    elif distribution_type == 'poisson':\n",
        "        samples = np.random.poisson(lambda_, sample_size)  # Generate samples for Poisson\n",
        "    else:\n",
        "        raise ValueError(\"Choose either 'binomial' or 'poisson'\")\n",
        "\n",
        "    mean = np.mean(samples)  # Calculate the mean\n",
        "    variance = np.var(samples)  # Calculate the variance\n",
        "\n",
        "    return samples, mean, variance\n",
        "\n",
        "# Example for Binomial distribution:\n",
        "samples, mean, variance = generate_samples('binomial', n=10, p=0.5)\n",
        "print(\"Binomial samples:\", samples[:100])  # Show first 10 samples\n",
        "print(\"Mean:\", mean)\n",
        "print(\"Variance:\", variance)\n",
        "\n",
        "# Example for Poisson distribution:\n",
        "samples, mean, variance = generate_samples('poisson', lambda_=5)\n",
        "print(\"Poisson samples:\", samples[:100])  # Show first 10 samples\n",
        "print(\"Mean:\", mean)\n",
        "print(\"Variance:\", variance)\n"
      ]
    },
    {
      "cell_type": "code",
      "execution_count": null,
      "metadata": {
        "id": "1VeBQtDZo67g"
      },
      "outputs": [],
      "source": []
    },
    {
      "cell_type": "markdown",
      "metadata": {
        "id": "3UelNzgup2pf"
      },
      "source": [
        "6) Write a Python script to generate random numbers from a Gaussian (normal) distribution and compute\n",
        "the mean, variance, and standard deviation of the samples."
      ]
    },
    {
      "cell_type": "code",
      "execution_count": null,
      "metadata": {
        "colab": {
          "base_uri": "https://localhost:8080/"
        },
        "id": "MQQ90ti4p4rv",
        "outputId": "0a97db67-4b30-4680-b12b-05f430b800cf"
      },
      "outputs": [
        {
          "name": "stdout",
          "output_type": "stream",
          "text": [
            "First 10 samples: [ 0.7981223   0.49926342 -0.13581669 -0.25775237  0.38354344 -0.7724601\n",
            " -0.4093641  -1.42655329  0.7301554   0.69456291]\n",
            "Mean: -0.01774042255272143\n",
            "Variance: 0.9242184090069095\n",
            "Standard Deviation: 0.9613627874048951\n"
          ]
        }
      ],
      "source": [
        "import numpy as np\n",
        "\n",
        "def generate_normal_samples(mean=0, std_dev=1, sample_size=1000):\n",
        "    # Generate random numbers from a normal (Gaussian) distribution\n",
        "    samples = np.random.normal(mean, std_dev, sample_size)\n",
        "\n",
        "    # Calculate mean, variance, and standard deviation\n",
        "    mean_value = np.mean(samples)\n",
        "    variance_value = np.var(samples)\n",
        "    std_dev_value = np.std(samples)\n",
        "\n",
        "    return samples, mean_value, variance_value, std_dev_value\n",
        "\n",
        "# Example usage\n",
        "samples, mean_value, variance_value, std_dev_value = generate_normal_samples(mean=0, std_dev=1)\n",
        "\n",
        "# Output the results\n",
        "print(\"First 10 samples:\", samples[:10])\n",
        "print(\"Mean:\", mean_value)\n",
        "print(\"Variance:\", variance_value)\n",
        "print(\"Standard Deviation:\", std_dev_value)\n"
      ]
    },
    {
      "cell_type": "code",
      "execution_count": null,
      "metadata": {
        "id": "iQrXGrByqfVP"
      },
      "outputs": [],
      "source": []
    },
    {
      "cell_type": "markdown",
      "metadata": {
        "id": "bjgj1XQAqldb"
      },
      "source": [
        "7) Use seaborn library to load tips dataset. Find the following from the dataset for the columns total_bill\n",
        "and tip`:"
      ]
    },
    {
      "cell_type": "code",
      "execution_count": 7,
      "metadata": {
        "colab": {
          "base_uri": "https://localhost:8080/"
        },
        "id": "ryHShtKuqs_O",
        "outputId": "5ba53acc-e067-42c6-fb0f-29ca69fbd287"
      },
      "outputs": [
        {
          "output_type": "stream",
          "name": "stdout",
          "text": [
            "Skewness of total_bill: 1.1262346334818638\n",
            "Skewness of tip: 1.4564266884221506\n"
          ]
        }
      ],
      "source": [
        "#   (i) Write a Python function that calculates their skewness.\n",
        "import seaborn as sns\n",
        "import scipy.stats as stats\n",
        "\n",
        "# Load the tips dataset\n",
        "tips = sns.load_dataset('tips')\n",
        "\n",
        "# Function to calculate skewness\n",
        "def calculate_skewness(column):\n",
        "    return stats.skew(column)\n",
        "\n",
        "# Calculate skewness for 'total_bill' and 'tip'\n",
        "skewness_total_bill = calculate_skewness(tips['total_bill'])\n",
        "skewness_tip = calculate_skewness(tips['tip'])\n",
        "\n",
        "print(f\"Skewness of total_bill: {skewness_total_bill}\")\n",
        "print(f\"Skewness of tip: {skewness_tip}\")\n"
      ]
    },
    {
      "cell_type": "code",
      "source": [
        "#   (ii) Create a program that determines whether the columns exhibit positive skewness, negative skewness, or is approximately symmetric.\n",
        "def skewness_type(skewness):\n",
        "    if skewness > 0:\n",
        "        return \"Positive skew\"\n",
        "    elif skewness < 0:\n",
        "        return \"Negative skew\"\n",
        "    else:\n",
        "        return \"Approximately symmetric\"\n",
        "\n",
        "# Determine skewness type for both columns\n",
        "print(f\"Skewness of total_bill: {skewness_type(skewness_total_bill)}\")\n",
        "print(f\"Skewness of tip: {skewness_type(skewness_tip)}\")\n"
      ],
      "metadata": {
        "colab": {
          "base_uri": "https://localhost:8080/"
        },
        "id": "24zwakZSrmXH",
        "outputId": "925be969-5634-48d8-e758-3729594fff89"
      },
      "execution_count": 8,
      "outputs": [
        {
          "output_type": "stream",
          "name": "stdout",
          "text": [
            "Skewness of total_bill: Positive skew\n",
            "Skewness of tip: Positive skew\n"
          ]
        }
      ]
    },
    {
      "cell_type": "code",
      "source": [
        "#   (iii) Write a function that calculates the covariance between two columns.\n",
        "def calculate_covariance(col1, col2):\n",
        "    return np.cov(col1, col2)[0, 1]\n",
        "\n",
        "# Calculate covariance between 'total_bill' and 'tip'\n",
        "covariance = calculate_covariance(tips['total_bill'], tips['tip'])\n",
        "print(f\"Covariance between total_bill and tip: {covariance}\")\n"
      ],
      "metadata": {
        "colab": {
          "base_uri": "https://localhost:8080/"
        },
        "id": "TgGcf36irvnD",
        "outputId": "96214d35-0925-4a28-a35c-3e88794bbbf2"
      },
      "execution_count": 9,
      "outputs": [
        {
          "output_type": "stream",
          "name": "stdout",
          "text": [
            "Covariance between total_bill and tip: 8.323501629224854\n"
          ]
        }
      ]
    },
    {
      "cell_type": "code",
      "source": [
        "#  (iv) Implement a Python program that calculates the Pearson correlation coefficient between two columns\n",
        "def calculate_pearson_correlation(col1, col2):\n",
        "    return np.corrcoef(col1, col2)[0, 1]\n",
        "\n",
        "# Calculate Pearson correlation coefficient between 'total_bill' and 'tip'\n",
        "pearson_corr = calculate_pearson_correlation(tips['total_bill'], tips['tip'])\n",
        "print(f\"Pearson correlation between total_bill and tip: {pearson_corr}\")\n"
      ],
      "metadata": {
        "colab": {
          "base_uri": "https://localhost:8080/"
        },
        "id": "IP1pG0aBr62v",
        "outputId": "2701a2ae-9177-42c6-ba9f-da24b4c8e0bc"
      },
      "execution_count": 10,
      "outputs": [
        {
          "output_type": "stream",
          "name": "stdout",
          "text": [
            "Pearson correlation between total_bill and tip: 0.6757341092113641\n"
          ]
        }
      ]
    },
    {
      "cell_type": "code",
      "source": [
        "# (v) Write a script to visualize the correlation between two specific columns in a Pandas DataFrame using scatter plots.\n",
        "import matplotlib.pyplot as plt\n",
        "\n",
        "def plot_scatter(col1, col2):\n",
        "    plt.scatter(col1, col2)\n",
        "    plt.title(\"Scatter Plot: Total Bill vs Tip\")\n",
        "    plt.xlabel(\"Total Bill\")\n",
        "    plt.ylabel(\"Tip\")\n",
        "    plt.show()\n",
        "\n",
        "# Create the scatter plot for 'total_bill' and 'tip'\n",
        "plot_scatter(tips['total_bill'], tips['tip'])\n"
      ],
      "metadata": {
        "colab": {
          "base_uri": "https://localhost:8080/",
          "height": 472
        },
        "id": "zsWSGOKDsDBz",
        "outputId": "81ba6c0f-824a-4be8-f1ed-ef7c2a284c4a"
      },
      "execution_count": 11,
      "outputs": [
        {
          "output_type": "display_data",
          "data": {
            "text/plain": [
              "<Figure size 640x480 with 1 Axes>"
            ],
            "image/png": "[encoded data removed]"
          },
          "metadata": {}
        }
      ]
    },
    {
      "cell_type": "code",
      "source": [],
      "metadata": {
        "id": "Posn_M9BsLaD"
      },
      "execution_count": null,
      "outputs": []
    },
    {
      "cell_type": "markdown",
      "source": [
        "8) Write a Python function to calculate the probability density function (PDF) of a continuous random\n",
        "variable for a given normal distribution.\n"
      ],
      "metadata": {
        "id": "lavQHtqisPTx"
      }
    },
    {
      "cell_type": "code",
      "source": [
        "import math\n",
        "\n",
        "def normal_pdf(x, mean=0, std_dev=1):\n",
        "    # Calculate the PDF of a normal distribution at point x\n",
        "    exponent = - (x - mean) ** 2 / (2 * std_dev ** 2)\n",
        "    denominator = std_dev * math.sqrt(2 * math.pi)\n",
        "    return math.exp(exponent) / denominator\n",
        "\n",
        "# Example usage:\n",
        "x_value = 2\n",
        "mean_value = 0\n",
        "std_dev_value = 1\n",
        "\n",
        "pdf_value = normal_pdf(x_value, mean_value, std_dev_value)\n",
        "print(f\"The PDF value at x = {x_value} for N({mean_value}, {std_dev_value}^2) is: {pdf_value}\")\n"
      ],
      "metadata": {
        "colab": {
          "base_uri": "https://localhost:8080/"
        },
        "id": "oBnVe-xrsRHa",
        "outputId": "3e5b8967-bcd9-4887-92da-267d1c632c99"
      },
      "execution_count": 12,
      "outputs": [
        {
          "output_type": "stream",
          "name": "stdout",
          "text": [
            "The PDF value at x = 2 for N(0, 1^2) is: 0.05399096651318806\n"
          ]
        }
      ]
    },
    {
      "cell_type": "code",
      "source": [],
      "metadata": {
        "id": "bg2mfS9WsuMF"
      },
      "execution_count": null,
      "outputs": []
    },
    {
      "cell_type": "markdown",
      "source": [
        "9) Create a program to calculate the cumulative distribution function (CDF) of exponential distribution."
      ],
      "metadata": {
        "id": "fQ90ZQJ1syy6"
      }
    },
    {
      "cell_type": "code",
      "source": [
        "import math\n",
        "\n",
        "def exponential_cdf(x, lambda_=1):\n",
        "    \"\"\"\n",
        "    Calculate the CDF of an exponential distribution at point x.\n",
        "\n",
        "    Parameters:\n",
        "        x (float): The point where the CDF is calculated.\n",
        "        lambda_ (float): The rate parameter (default is 1).\n",
        "\n",
        "    Returns:\n",
        "        float: The CDF value at point x.\n",
        "    \"\"\"\n",
        "    # If x is less than 0, the CDF is 0 because exponential distribution only takes positive values\n",
        "    if x < 0:\n",
        "        return 0\n",
        "    return 1 - math.exp(-lambda_ * x)\n",
        "\n",
        "# Example usage\n",
        "x_value = 2\n",
        "lambda_value = 1  # Default rate parameter (mean = 1 / lambda)\n",
        "\n",
        "cdf_value = exponential_cdf(x_value, lambda_value)\n",
        "print(f\"The CDF value at x = {x_value} for an exponential distribution with lambda = {lambda_value} is: {cdf_value}\")\n"
      ],
      "metadata": {
        "colab": {
          "base_uri": "https://localhost:8080/"
        },
        "id": "o00-rGzIs04e",
        "outputId": "3eb43084-245d-48f3-db90-ecc2d9d091a8"
      },
      "execution_count": 13,
      "outputs": [
        {
          "output_type": "stream",
          "name": "stdout",
          "text": [
            "The CDF value at x = 2 for an exponential distribution with lambda = 1 is: 0.8646647167633873\n"
          ]
        }
      ]
    },
    {
      "cell_type": "code",
      "source": [],
      "metadata": {
        "id": "VHGbmMAjtRnf"
      },
      "execution_count": null,
      "outputs": []
    },
    {
      "cell_type": "markdown",
      "source": [
        "10) Write a Python function to calculate the probability mass function (PMF) of Poisson distribution."
      ],
      "metadata": {
        "id": "c5XU396LtS4X"
      }
    },
    {
      "cell_type": "code",
      "source": [
        "import math\n",
        "\n",
        "def poisson_pmf(k, lambda_):\n",
        "    # Poisson PMF formula: (lambda^k * e^(-lambda)) / k!\n",
        "    return (lambda_ ** k) * math.exp(-lambda_) / math.factorial(k)\n",
        "\n",
        "# Example usage:\n",
        "k_value = 3  # Number of events\n",
        "lambda_value = 2  # Average rate of events\n",
        "\n",
        "# Calculate and print the PMF\n",
        "print(poisson_pmf(k_value, lambda_value))\n"
      ],
      "metadata": {
        "colab": {
          "base_uri": "https://localhost:8080/"
        },
        "id": "1A55F2kitf6f",
        "outputId": "5062b402-861b-4ee6-86b1-6fd1ff5bb314"
      },
      "execution_count": 14,
      "outputs": [
        {
          "output_type": "stream",
          "name": "stdout",
          "text": [
            "0.1804470443154836\n"
          ]
        }
      ]
    },
    {
      "cell_type": "code",
      "source": [],
      "metadata": {
        "id": "VanRCJ5ntvbi"
      },
      "execution_count": null,
      "outputs": []
    },
    {
      "cell_type": "markdown",
      "source": [
        "11. M A company wants to test if a new website layout leads to a higher conversion rate (percentage of visitors\n",
        "who make a purchase). They collect data from the old and new layouts to compare.\n",
        "\n",
        "\n",
        "To generate the data use the following command:\n",
        "\n",
        "```python\n",
        "\n",
        "import numpy as np\n",
        "\n",
        "# 50 purchases out of 1000 visitors\n",
        "\n",
        "old_layout = np.array([1] * 50 + [0] * 950)\n",
        "\n",
        "# 70 purchases out of 1000 visitors  \n",
        "\n",
        "new_layout = np.array([1] * 70 + [0] * 930)\n",
        "\n",
        "  ```\n",
        "\n",
        "Apply z-test to find which layout is successful.\n",
        "\n"
      ],
      "metadata": {
        "id": "yHYwP_5EtzCs"
      }
    },
    {
      "cell_type": "code",
      "source": [
        "import numpy as np\n",
        "from scipy import stats\n",
        "\n",
        "# Data generation (given)\n",
        "old_layout_purchases = 50  # 50 purchases out of 1000 visitors\n",
        "new_layout_purchases = 70  # 70 purchases out of 1000 visitors\n",
        "\n",
        "old_layout_visitors = 1000\n",
        "new_layout_visitors = 1000\n",
        "\n",
        "# Calculate the conversion rates (proportions)\n",
        "p_old = old_layout_purchases / old_layout_visitors\n",
        "p_new = new_layout_purchases / new_layout_visitors\n",
        "\n",
        "# Pooled proportion\n",
        "p_pool = (old_layout_purchases + new_layout_purchases) / (old_layout_visitors + new_layout_visitors)\n",
        "\n",
        "# Standard error of the difference\n",
        "se = np.sqrt(p_pool * (1 - p_pool) * (1 / old_layout_visitors + 1 / new_layout_visitors))\n",
        "\n",
        "# Z-statistic\n",
        "z_stat = (p_old - p_new) / se\n",
        "\n",
        "# P-value (two-tailed test)\n",
        "p_value = 2 * (1 - stats.norm.cdf(abs(z_stat)))\n",
        "\n",
        "# Output the results\n",
        "print(f\"Z-statistic: {z_stat}\")\n",
        "print(f\"P-value: {p_value}\")\n",
        "\n",
        "# Interpret the results\n",
        "alpha = 0.05  # significance level (5%)\n",
        "if p_value < alpha:\n",
        "    print(\"We reject the null hypothesis. There is a significant difference in conversion rates.\")\n",
        "else:\n",
        "    print(\"We fail to reject the null hypothesis. There is no significant difference in conversion rates.\")\n"
      ],
      "metadata": {
        "colab": {
          "base_uri": "https://localhost:8080/"
        },
        "id": "nBw14Dhjt3kE",
        "outputId": "f7da81f0-56d4-407c-c5ca-9796679a5918"
      },
      "execution_count": 15,
      "outputs": [
        {
          "output_type": "stream",
          "name": "stdout",
          "text": [
            "Z-statistic: -1.883108942886774\n",
            "P-value: 0.05968560553242619\n",
            "We fail to reject the null hypothesis. There is no significant difference in conversion rates.\n"
          ]
        }
      ]
    },
    {
      "cell_type": "code",
      "source": [],
      "metadata": {
        "id": "n7pE3GZBuzKA"
      },
      "execution_count": null,
      "outputs": []
    },
    {
      "cell_type": "markdown",
      "source": [
        "12. A tutoring service claims that its program improves students' exam scores. A sample of students who\n",
        "participated in the program was taken, and their scores before and after the program were recorded.\n",
        "\n",
        "\n",
        "Use the below code to generate samples of respective arrays of marks:\n",
        "\n",
        "```python\n",
        "\n",
        "before_program = np.array([75, 80, 85, 70, 90, 78, 92, 88, 82, 87])\n",
        "\n",
        "after_program = np.array([80, 85, 90, 80, 92, 80, 95, 90, 85, 88])\n",
        "\n",
        "```\n",
        "\n",
        "Use z-test to find if the claims made by tutor are true or false"
      ],
      "metadata": {
        "id": "oqBFNvD2vDeH"
      }
    },
    {
      "cell_type": "code",
      "source": [
        "import numpy as np\n",
        "from scipy import stats\n",
        "\n",
        "# Given data: students' scores before and after the program\n",
        "before_program = np.array([75, 80, 85, 70, 90, 78, 92, 88, 82, 87])\n",
        "after_program = np.array([80, 85, 90, 80, 92, 80, 95, 90, 85, 88])\n",
        "\n",
        "# Calculate the differences between after and before scores\n",
        "differences = after_program - before_program\n",
        "\n",
        "# Calculate the mean and standard deviation of the differences\n",
        "mean_diff = np.mean(differences)\n",
        "std_diff = np.std(differences, ddof=1)\n",
        "\n",
        "# Sample size\n",
        "n = len(differences)\n",
        "\n",
        "# Z-statistic calculation for paired samples\n",
        "z_stat = mean_diff / (std_diff / np.sqrt(n))\n",
        "\n",
        "# P-value calculation for two-tailed test\n",
        "p_value = 2 * (1 - stats.norm.cdf(abs(z_stat)))\n",
        "\n",
        "# Output the results\n",
        "print(f\"Z-statistic: {z_stat}\")\n",
        "print(f\"P-value: {p_value}\")\n",
        "\n",
        "# Interpretation of results\n",
        "alpha = 0.05  # significance level (5%)\n",
        "if p_value < alpha:\n",
        "    print(\"We reject the null hypothesis. The program has a significant effect on the students' scores.\")\n",
        "else:\n",
        "    print(\"We fail to reject the null hypothesis. The program does not have a significant effect on the students' scores.\")\n"
      ],
      "metadata": {
        "colab": {
          "base_uri": "https://localhost:8080/"
        },
        "id": "CViStJQrvECl",
        "outputId": "82ebc451-d24a-4e6f-a65c-d1456a2a75c3"
      },
      "execution_count": 16,
      "outputs": [
        {
          "output_type": "stream",
          "name": "stdout",
          "text": [
            "Z-statistic: 4.593190894944668\n",
            "P-value: 4.365194105293568e-06\n",
            "We reject the null hypothesis. The program has a significant effect on the students' scores.\n"
          ]
        }
      ]
    },
    {
      "cell_type": "code",
      "source": [],
      "metadata": {
        "id": "mV1aPVywvfn0"
      },
      "execution_count": null,
      "outputs": []
    },
    {
      "cell_type": "markdown",
      "source": [
        "13. A pharmaceutical company wants to determine if a new drug is effective in reducing blood pressure. They\n",
        "conduct a study and record blood pressure measurements before and after administering the drug.\n",
        "\n",
        "\n",
        "Use the below code to generate samples of respective arrays of blood pressure:\n",
        "\n",
        "\n",
        "```python\n",
        "\n",
        "before_drug = np.array([145, 150, 140, 135, 155, 160, 152, 148, 130, 138])\n",
        "\n",
        "after_drug = np.array([130, 140, 132, 128, 145, 148, 138, 136, 125, 130])\n",
        "\n",
        "  ```\n",
        "\n",
        "\n",
        "Implement z-test to find if the drug really works or not."
      ],
      "metadata": {
        "id": "AuLd2roRvrQ7"
      }
    },
    {
      "cell_type": "code",
      "source": [
        "import numpy as np\n",
        "from scipy import stats\n",
        "\n",
        "# Sample data for before and after drug measurements\n",
        "before_drug = np.array([145, 150, 140, 135, 155, 160, 152, 148, 130, 138])\n",
        "after_drug = np.array([130, 140, 132, 128, 145, 148, 138, 136, 125, 130])\n",
        "\n",
        "# Calculate the differences between the before and after measurements\n",
        "differences = before_drug - after_drug\n",
        "\n",
        "# Sample mean and standard deviation of differences\n",
        "mean_diff = np.mean(differences)\n",
        "std_diff = np.std(differences, ddof=1)  # Sample standard deviation (ddof=1 for sample standard deviation)\n",
        "n = len(differences)  # Sample size\n",
        "\n",
        "# Calculate the z-statistic\n",
        "z_stat = mean_diff / (std_diff / np.sqrt(n))\n",
        "\n",
        "# For a two-tailed test, find the p-value from the z-distribution\n",
        "p_value = 2 * (1 - stats.norm.cdf(abs(z_stat)))\n",
        "\n",
        "# Output the results\n",
        "print(\"Z-statistic:\", z_stat)\n",
        "print(\"P-value:\", p_value)\n",
        "\n",
        "# Decision based on p-value\n",
        "alpha = 0.05  # significance level\n",
        "if p_value < alpha:\n",
        "    print(\"Reject the null hypothesis: The drug has a significant effect on blood pressure.\")\n",
        "else:\n",
        "    print(\"Fail to reject the null hypothesis: The drug does not have a significant effect.\")\n"
      ],
      "metadata": {
        "colab": {
          "base_uri": "https://localhost:8080/"
        },
        "id": "fIG0GubAvuyC",
        "outputId": "e2ca6610-8f3a-4468-aec3-d4e9953399b9"
      },
      "execution_count": 17,
      "outputs": [
        {
          "output_type": "stream",
          "name": "stdout",
          "text": [
            "Z-statistic: 10.049875621120888\n",
            "P-value: 0.0\n",
            "Reject the null hypothesis: The drug has a significant effect on blood pressure.\n"
          ]
        }
      ]
    },
    {
      "cell_type": "code",
      "source": [],
      "metadata": {
        "id": "4lHLAjcJwXO7"
      },
      "execution_count": null,
      "outputs": []
    },
    {
      "cell_type": "markdown",
      "source": [
        "14.A customer service department claims that their average response time is less than 5 minutes. A sample\n",
        "of recent customer interactions was taken, and the response times were recorded.\n",
        "\n",
        "\n",
        "Implement the below code to generate the array of response time:\n",
        "\n",
        "```python\n",
        "\n",
        "response_times = np.array([4.3, 3.8, 5.1, 4.9, 4.7, 4.2, 5.2, 4.5, 4.6, 4.4])\n",
        "\n",
        "```\n",
        "\n",
        "Implement z-test to find the claims made by customer service department are tru or false."
      ],
      "metadata": {
        "id": "MN6sHhuwwjXX"
      }
    },
    {
      "cell_type": "code",
      "source": [
        "import numpy as np\n",
        "from scipy import stats\n",
        "\n",
        "# Sample data for response times\n",
        "response_times = np.array([4.3, 3.8, 5.1, 4.9, 4.7, 4.2, 5.2, 4.5, 4.6, 4.4])\n",
        "\n",
        "# Population mean claim\n",
        "mu = 5\n",
        "\n",
        "# Calculate the sample mean and standard deviation\n",
        "mean_response = np.mean(response_times)\n",
        "std_response = np.std(response_times, ddof=1)  # Sample standard deviation\n",
        "n = len(response_times)  # Sample size\n",
        "\n",
        "# Calculate the z-statistic\n",
        "z_stat = (mean_response - mu) / (std_response / np.sqrt(n))\n",
        "\n",
        "# Calculate the p-value (one-tailed test)\n",
        "p_value = stats.norm.cdf(z_stat)\n",
        "\n",
        "# Output the results\n",
        "print(\"Z-statistic:\", z_stat)\n",
        "print(\"P-value:\", p_value)\n",
        "\n",
        "# Decision based on p-value\n",
        "alpha = 0.05  # significance level\n",
        "if p_value < alpha:\n",
        "    print(\"Reject the null hypothesis: The average response time is less than 5 minutes.\")\n",
        "else:\n",
        "    print(\"Fail to reject the null hypothesis: The average response time is not less than 5 minutes.\")\n"
      ],
      "metadata": {
        "colab": {
          "base_uri": "https://localhost:8080/"
        },
        "id": "3aC1LJ6YwlBO",
        "outputId": "50be10df-bccd-4c87-e136-b3db92e1b37f"
      },
      "execution_count": 18,
      "outputs": [
        {
          "output_type": "stream",
          "name": "stdout",
          "text": [
            "Z-statistic: -3.184457226042963\n",
            "P-value: 0.0007251287113068958\n",
            "Reject the null hypothesis: The average response time is less than 5 minutes.\n"
          ]
        }
      ]
    },
    {
      "cell_type": "code",
      "source": [],
      "metadata": {
        "id": "Zs7eaK14wup9"
      },
      "execution_count": null,
      "outputs": []
    },
    {
      "cell_type": "markdown",
      "source": [
        "15. A company is testing two different website layouts to see which one leads to higher click-through rates.\n",
        "Write a Python function to perform an A/B test analysis, including calculating the t-statistic, degrees of\n",
        "freedom, and p-value.\n",
        "\n",
        "\n",
        "Use the following data:\n",
        "\n",
        "```python\n",
        "\n",
        "layout_a_clicks = [28, 32, 33, 29, 31, 34, 30, 35, 36, 37]\n",
        "\n",
        "layout_b_clicks = [40, 41, 38, 42, 39, 44, 43, 41, 45, 47]\n",
        "```"
      ],
      "metadata": {
        "id": "VruK4KuPw5dV"
      }
    },
    {
      "cell_type": "code",
      "source": [
        "import numpy as np\n",
        "from scipy import stats\n",
        "\n",
        "# Click data for layout A and layout B\n",
        "layout_a_clicks = [28, 32, 33, 29, 31, 34, 30, 35, 36, 37]\n",
        "layout_b_clicks = [40, 41, 38, 42, 39, 44, 43, 41, 45, 47]\n",
        "\n",
        "def perform_ab_test(layout_a, layout_b):\n",
        "    # Calculate the sample means, standard deviations, and sizes\n",
        "    mean_a = np.mean(layout_a)\n",
        "    mean_b = np.mean(layout_b)\n",
        "    std_a = np.std(layout_a, ddof=1)  # sample standard deviation\n",
        "    std_b = np.std(layout_b, ddof=1)  # sample standard deviation\n",
        "    n_a = len(layout_a)\n",
        "    n_b = len(layout_b)\n",
        "\n",
        "    # Calculate the t-statistic\n",
        "    t_stat = (mean_a - mean_b) / np.sqrt((std_a**2 / n_a) + (std_b**2 / n_b))\n",
        "\n",
        "    # Calculate the degrees of freedom using the Welch-Satterthwaite equation\n",
        "    numerator = (std_a**2 / n_a + std_b**2 / n_b)**2\n",
        "    denominator = ((std_a**2 / n_a)**2 / (n_a - 1)) + ((std_b**2 / n_b)**2 / (n_b - 1))\n",
        "    df = numerator / denominator\n",
        "\n",
        "    # Calculate the p-value for a two-tailed test\n",
        "    p_value = 2 * (1 - stats.t.cdf(abs(t_stat), df))\n",
        "\n",
        "    return t_stat, df, p_value\n",
        "\n",
        "# Perform the A/B test\n",
        "t_stat, df, p_value = perform_ab_test(layout_a_clicks, layout_b_clicks)\n",
        "\n",
        "# Output the results\n",
        "print(f\"T-statistic: {t_stat:.4f}\")\n",
        "print(f\"Degrees of Freedom: {df:.4f}\")\n",
        "print(f\"P-value: {p_value:.4f}\")\n",
        "\n",
        "# Decision based on p-value\n",
        "alpha = 0.05  # significance level\n",
        "if p_value < alpha:\n",
        "    print(\"Reject the null hypothesis: There is a significant difference in click-through rates between the two layouts.\")\n",
        "else:\n",
        "    print(\"Fail to reject the null hypothesis: There is no significant difference in click-through rates between the two layouts.\")\n"
      ],
      "metadata": {
        "colab": {
          "base_uri": "https://localhost:8080/"
        },
        "id": "3KgFs-xSw64V",
        "outputId": "4a76c476-39f7-446f-a782-04e6976615d2"
      },
      "execution_count": 19,
      "outputs": [
        {
          "output_type": "stream",
          "name": "stdout",
          "text": [
            "T-statistic: -7.2981\n",
            "Degrees of Freedom: 17.8799\n",
            "P-value: 0.0000\n",
            "Reject the null hypothesis: There is a significant difference in click-through rates between the two layouts.\n"
          ]
        }
      ]
    },
    {
      "cell_type": "code",
      "source": [],
      "metadata": {
        "id": "tu1-KlflxK1f"
      },
      "execution_count": null,
      "outputs": []
    },
    {
      "cell_type": "markdown",
      "source": [
        "16. A pharmaceutical company wants to determine if a new drug is more effective than an existing drug in\n",
        "reducing cholesterol levels. Create a program to analyze the clinical trial data and calculate the tstatistic and p-value for the treatment effect.\n",
        "\n",
        "\n",
        "Use the following data of cholestrol level:\n",
        "\n",
        "```python\n",
        "\n",
        "existing_drug_levels = [180, 182, 175, 185, 178, 176, 172, 184, 179, 183]\n",
        "\n",
        "new_drug_levels = [170, 172, 165, 168, 175, 173, 170, 178, 172, 176]```\n"
      ],
      "metadata": {
        "id": "1bXu3TWTxL6f"
      }
    },
    {
      "cell_type": "code",
      "source": [
        "import numpy as np\n",
        "from scipy import stats\n",
        "\n",
        "# Cholesterol levels for the existing drug and new drug\n",
        "existing_drug_levels = [180, 182, 175, 185, 178, 176, 172, 184, 179, 183]\n",
        "new_drug_levels = [170, 172, 165, 168, 175, 173, 170, 178, 172, 176]\n",
        "\n",
        "def perform_ab_test(existing_drug, new_drug):\n",
        "    # Calculate the sample means, standard deviations, and sizes\n",
        "    mean_existing = np.mean(existing_drug)\n",
        "    mean_new = np.mean(new_drug)\n",
        "    std_existing = np.std(existing_drug, ddof=1)  # sample standard deviation\n",
        "    std_new = np.std(new_drug, ddof=1)  # sample standard deviation\n",
        "    n_existing = len(existing_drug)\n",
        "    n_new = len(new_drug)\n",
        "\n",
        "    # Calculate the t-statistic\n",
        "    t_stat = (mean_existing - mean_new) / np.sqrt((std_existing**2 / n_existing) + (std_new**2 / n_new))\n",
        "\n",
        "    # Calculate the degrees of freedom using the Welch-Satterthwaite equation\n",
        "    numerator = (std_existing**2 / n_existing + std_new**2 / n_new)**2\n",
        "    denominator = ((std_existing**2 / n_existing)**2 / (n_existing - 1)) + ((std_new**2 / n_new)**2 / (n_new - 1))\n",
        "    df = numerator / denominator\n",
        "\n",
        "    # Calculate the p-value (two-tailed test)\n",
        "    p_value = 2 * (1 - stats.t.cdf(abs(t_stat), df))\n",
        "\n",
        "    return t_stat, df, p_value\n",
        "\n",
        "# Perform the A/B test\n",
        "t_stat, df, p_value = perform_ab_test(existing_drug_levels, new_drug_levels)\n",
        "\n",
        "# Output the results\n",
        "print(f\"T-statistic: {t_stat}\")\n",
        "print(f\"Degrees of Freedom: {df}\")\n",
        "print(f\"P-value: {p_value}\")\n",
        "\n",
        "# Decision based on p-value\n",
        "alpha = 0.05  # significance level\n",
        "if p_value < alpha:\n",
        "    print(\"Reject the null hypothesis: The new drug is more effective than the existing drug.\")\n",
        "else:\n",
        "    print(\"Fail to reject the null hypothesis: There is no significant difference between the two drugs.\")\n"
      ],
      "metadata": {
        "colab": {
          "base_uri": "https://localhost:8080/"
        },
        "id": "pWMsxP-2xPcz",
        "outputId": "4c96726e-d019-4236-db47-6c79103d89c8"
      },
      "execution_count": 22,
      "outputs": [
        {
          "output_type": "stream",
          "name": "stdout",
          "text": [
            "T-statistic: 4.140480986208661\n",
            "Degrees of Freedom: 17.866770765582338\n",
            "P-value: 0.0006229228945469067\n",
            "Reject the null hypothesis: The new drug is more effective than the existing drug.\n"
          ]
        }
      ]
    },
    {
      "cell_type": "code",
      "source": [],
      "metadata": {
        "id": "CaRK-09fxXsk"
      },
      "execution_count": null,
      "outputs": []
    },
    {
      "cell_type": "markdown",
      "source": [
        "17. A school district introduces an educational intervention program to improve math scores. Write a Python\n",
        "function to analyze pre- and post-intervention test scores, calculating the t-statistic and p-value to\n",
        "determine if the intervention had a significant impact.\n",
        "\n",
        "\n",
        "Use the following data of test score:\n",
        "\n",
        "\n",
        "  ```python\n",
        "\n",
        "  pre_intervention_scores = [80, 85, 90, 75, 88, 82, 92, 78, 85, 87]\n",
        "\n",
        "  post_intervention_scores = [90, 92, 88, 92, 95, 91, 96, 93, 89, 93]\n",
        "  ```"
      ],
      "metadata": {
        "id": "zWIjE539xf7F"
      }
    },
    {
      "cell_type": "code",
      "source": [
        "import numpy as np\n",
        "from scipy import stats\n",
        "\n",
        "# Pre-intervention and post-intervention test scores\n",
        "pre_intervention_scores = [80, 85, 90, 75, 88, 82, 92, 78, 85, 87]\n",
        "post_intervention_scores = [90, 92, 88, 92, 95, 91, 96, 93, 89, 93]\n",
        "\n",
        "def perform_paired_t_test(pre_scores, post_scores):\n",
        "    # Calculate the differences between pre and post scores\n",
        "    differences = np.array(post_scores) - np.array(pre_scores)\n",
        "\n",
        "    # Calculate the mean and standard deviation of the differences\n",
        "    mean_diff = np.mean(differences)\n",
        "    std_diff = np.std(differences, ddof=1)  # Sample standard deviation\n",
        "    n = len(differences)\n",
        "\n",
        "    # Calculate the t-statistic\n",
        "    t_stat = mean_diff / (std_diff / np.sqrt(n))\n",
        "\n",
        "    # Calculate the degrees of freedom (n - 1)\n",
        "    df = n - 1\n",
        "\n",
        "    # Calculate the p-value for a two-tailed test\n",
        "    p_value = 2 * (1 - stats.t.cdf(abs(t_stat), df))\n",
        "\n",
        "    return t_stat, df, p_value\n",
        "\n",
        "# Perform the paired t-test\n",
        "t_stat, df, p_value = perform_paired_t_test(pre_intervention_scores, post_intervention_scores)\n",
        "\n",
        "# Output the results\n",
        "print(f\"T-statistic: {t_stat:.4f}\")\n",
        "print(f\"Degrees of Freedom: {df}\")\n",
        "print(f\"P-value: {p_value:.4f}\")\n",
        "\n",
        "# Decision based on p-value\n",
        "alpha = 0.05  # significance level\n",
        "if p_value < alpha:\n",
        "    print(\"Reject the null hypothesis: The intervention had a significant impact on math scores.\")\n",
        "else:\n",
        "    print(\"Fail to reject the null hypothesis: The intervention did not have a significant impact on math scores.\")\n"
      ],
      "metadata": {
        "colab": {
          "base_uri": "https://localhost:8080/"
        },
        "id": "InBy6Rz2xvJc",
        "outputId": "15aa7356-e170-4a0b-c898-ef63f7a12189"
      },
      "execution_count": 23,
      "outputs": [
        {
          "output_type": "stream",
          "name": "stdout",
          "text": [
            "T-statistic: 4.4284\n",
            "Degrees of Freedom: 9\n",
            "P-value: 0.0017\n",
            "Reject the null hypothesis: The intervention had a significant impact on math scores.\n"
          ]
        }
      ]
    },
    {
      "cell_type": "code",
      "source": [],
      "metadata": {
        "id": "A2pcF9i6x4z_"
      },
      "execution_count": null,
      "outputs": []
    },
    {
      "cell_type": "markdown",
      "source": [
        "18. An HR department wants to investigate if there's a gender-based salary gap within the company. Develop\n",
        "a program to analyze salary data, calculate the t-statistic, and determine if there's a statistically\n",
        "significant difference between the average salaries of male and female employees.\n",
        "\n",
        "\n",
        "Use the below code to generate synthetic data:\n",
        "\n",
        "\n",
        "```python\n",
        "\n",
        "# Generate synthetic salary data for male and female employees\n",
        "\n",
        "np.random.seed(0)  # For reproducibility\n",
        "\n",
        "male_salaries = np.random.normal(loc=50000, scale=10000, size=20)\n",
        "\n",
        "female_salaries = np.random.normal(loc=55000, scale=9000, size=20)\n",
        "\n",
        "  ```"
      ],
      "metadata": {
        "id": "3CfBFEvUx5h2"
      }
    },
    {
      "cell_type": "code",
      "source": [
        "import numpy as np\n",
        "from scipy import stats\n",
        "\n",
        "# Generate synthetic salary data for male and female employees\n",
        "np.random.seed(0)  # For reproducibility\n",
        "\n",
        "male_salaries = np.random.normal(loc=50000, scale=10000, size=20)\n",
        "female_salaries = np.random.normal(loc=55000, scale=9000, size=20)\n",
        "\n",
        "def perform_two_sample_t_test(male_salaries, female_salaries):\n",
        "    # Calculate the sample means, standard deviations, and sizes\n",
        "    mean_male = np.mean(male_salaries)\n",
        "    mean_female = np.mean(female_salaries)\n",
        "    std_male = np.std(male_salaries, ddof=1)  # Sample standard deviation\n",
        "    std_female = np.std(female_salaries, ddof=1)  # Sample standard deviation\n",
        "    n_male = len(male_salaries)\n",
        "    n_female = len(female_salaries)\n",
        "\n",
        "    # Calculate the t-statistic\n",
        "    t_stat = (mean_male - mean_female) / np.sqrt((std_male**2 / n_male) + (std_female**2 / n_female))\n",
        "\n",
        "    # Calculate the degrees of freedom using the Welch-Satterthwaite equation\n",
        "    numerator = (std_male**2 / n_male + std_female**2 / n_female)**2\n",
        "    denominator = ((std_male**2 / n_male)**2 / (n_male - 1)) + ((std_female**2 / n_female)**2 / (n_female - 1))\n",
        "    df = numerator / denominator\n",
        "\n",
        "    # Calculate the p-value (two-tailed test)\n",
        "    p_value = 2 * (1 - stats.t.cdf(abs(t_stat), df))\n",
        "\n",
        "    return t_stat, df, p_value\n",
        "\n",
        "# Perform the two-sample t-test\n",
        "t_stat, df, p_value = perform_two_sample_t_test(male_salaries, female_salaries)\n",
        "\n",
        "# Output the results\n",
        "print(f\"T-statistic: {t_stat:.4f}\")\n",
        "print(f\"Degrees of Freedom: {df:.4f}\")\n",
        "print(f\"P-value: {p_value:.4f}\")\n",
        "\n",
        "# Decision based on p-value\n",
        "alpha = 0.05  # significance level\n",
        "if p_value < alpha:\n",
        "    print(\"Reject the null hypothesis: There is a significant difference between the average salaries of male and female employees.\")\n",
        "else:\n",
        "    print(\"Fail to reject the null hypothesis: There is no significant difference between the average salaries of male and female employees.\")\n"
      ],
      "metadata": {
        "colab": {
          "base_uri": "https://localhost:8080/"
        },
        "id": "clvesWY7x_7G",
        "outputId": "062246e5-006e-4a42-8946-ecca003d564f"
      },
      "execution_count": 24,
      "outputs": [
        {
          "output_type": "stream",
          "name": "stdout",
          "text": [
            "T-statistic: 0.0611\n",
            "Degrees of Freedom: 36.1668\n",
            "P-value: 0.9516\n",
            "Fail to reject the null hypothesis: There is no significant difference between the average salaries of male and female employees.\n"
          ]
        }
      ]
    },
    {
      "cell_type": "code",
      "source": [],
      "metadata": {
        "id": "DRRXS0oXyFxl"
      },
      "execution_count": null,
      "outputs": []
    },
    {
      "cell_type": "markdown",
      "source": [
        "19.A manufacturer produces two different versions of a product and wants to compare their quality scores.\n",
        "Create a Python function to analyze quality assessment data, calculate the t-statistic, and decide\n",
        "whether there's a significant difference in quality between the two versions.\n",
        "\n",
        "\n",
        "Use the following data:\n",
        "\n",
        "\n",
        "```python\n",
        "\n",
        "version1_scores = [85, 88, 82, 89, 87, 84, 90, 88, 85, 86, 91, 83, 87, 84, 89, 86, 84, 88, 85, 86, 89, 90, 87, 88, 85]\n",
        "\n",
        "version2_scores = [80, 78, 83, 81, 79, 82, 76, 80, 78, 81, 77, 82, 80, 79, 82, 79, 80, 81, 79, 82, 79, 78, 80, 81, 82]\n",
        "\n",
        "```"
      ],
      "metadata": {
        "id": "iQ1je8w_yK53"
      }
    },
    {
      "cell_type": "code",
      "source": [
        "import numpy as np\n",
        "from scipy import stats\n",
        "\n",
        "# Quality assessment scores for version 1 and version 2\n",
        "version1_scores = [85, 88, 82, 89, 87, 84, 90, 88, 85, 86, 91, 83, 87, 84, 89, 86, 84, 88, 85, 86, 89, 90, 87, 88, 85]\n",
        "version2_scores = [80, 78, 83, 81, 79, 82, 76, 80, 78, 81, 77, 82, 80, 79, 82, 79, 80, 81, 79, 82, 79, 78, 80, 81, 82]\n",
        "\n",
        "def perform_two_sample_t_test(version1_scores, version2_scores):\n",
        "    # Calculate the sample means, standard deviations, and sizes\n",
        "    mean_version1 = np.mean(version1_scores)\n",
        "    mean_version2 = np.mean(version2_scores)\n",
        "    std_version1 = np.std(version1_scores, ddof=1)  # Sample standard deviation\n",
        "    std_version2 = np.std(version2_scores, ddof=1)  # Sample standard deviation\n",
        "    n_version1 = len(version1_scores)\n",
        "    n_version2 = len(version2_scores)\n",
        "\n",
        "    # Calculate the t-statistic\n",
        "    t_stat = (mean_version1 - mean_version2) / np.sqrt((std_version1**2 / n_version1) + (std_version2**2 / n_version2))\n",
        "\n",
        "    # Calculate the degrees of freedom using the Welch-Satterthwaite equation\n",
        "    numerator = (std_version1**2 / n_version1 + std_version2**2 / n_version2)**2\n",
        "    denominator = ((std_version1**2 / n_version1)**2 / (n_version1 - 1)) + ((std_version2**2 / n_version2)**2 / (n_version2 - 1))\n",
        "    df = numerator / denominator\n",
        "\n",
        "    # Calculate the p-value (two-tailed test)\n",
        "    p_value = 2 * (1 - stats.t.cdf(abs(t_stat), df))\n",
        "\n",
        "    return t_stat, df, p_value\n",
        "\n",
        "# Perform the two-sample t-test\n",
        "t_stat, df, p_value = perform_two_sample_t_test(version1_scores, version2_scores)\n",
        "\n",
        "# Output the results\n",
        "print(f\"T-statistic: {t_stat:.4f}\")\n",
        "print(f\"Degrees of Freedom: {df:.4f}\")\n",
        "print(f\"P-value: {p_value:.4f}\")\n",
        "\n",
        "# Decision based on p-value\n",
        "alpha = 0.05  # significance level\n",
        "if p_value < alpha:\n",
        "    print(\"Reject the null hypothesis: There is a significant difference in quality between version 1 and version 2.\")\n",
        "else:\n",
        "    print(\"Fail to reject the null hypothesis: There is no significant difference in quality between version 1 and version 2.\")\n"
      ],
      "metadata": {
        "colab": {
          "base_uri": "https://localhost:8080/"
        },
        "id": "F99ExlaGyMfD",
        "outputId": "0f05ef91-e641-46a6-e6d1-4d13c9c1c2f3"
      },
      "execution_count": 25,
      "outputs": [
        {
          "output_type": "stream",
          "name": "stdout",
          "text": [
            "T-statistic: 11.3258\n",
            "Degrees of Freedom: 44.4706\n",
            "P-value: 0.0000\n",
            "Reject the null hypothesis: There is a significant difference in quality between version 1 and version 2.\n"
          ]
        }
      ]
    },
    {
      "cell_type": "code",
      "source": [],
      "metadata": {
        "id": "7Oo0LeseyUD3"
      },
      "execution_count": null,
      "outputs": []
    },
    {
      "cell_type": "markdown",
      "source": [
        " 20. A restaurant chain collects customer satisfaction scores for two different branches. Write a program to\n",
        "analyze the scores, calculate the t-statistic, and determine if there's a statistically significant difference in\n",
        "customer satisfaction between the branches.\n",
        "\n",
        "\n",
        "Use the below data of scores:\n",
        "\n",
        "  ```python\n",
        "\n",
        "branch_a_scores = [4, 5, 3, 4, 5, 4, 5, 3, 4, 4, 5, 4, 4, 3, 4, 5, 5, 4, 3, 4, 5, 4, 3, 5, 4, 4, 5, 3, 4, 5, 4]\n",
        "\n",
        "branch_b_scores = [3, 4, 2, 3, 4, 3, 4, 2, 3, 3, 4, 3, 3, 2, 3, 4, 4, 3, 2, 3, 4, 3, 2, 4, 3, 3, 4, 2, 3, 4, 3]\n",
        "```"
      ],
      "metadata": {
        "id": "75O5rAv0ybkO"
      }
    },
    {
      "cell_type": "code",
      "source": [
        "import numpy as np\n",
        "from scipy import stats\n",
        "\n",
        "# Customer satisfaction scores for Branch A and Branch B\n",
        "branch_a_scores = [4, 5, 3, 4, 5, 4, 5, 3, 4, 4, 5, 4, 4, 3, 4, 5, 5, 4, 3, 4, 5, 4, 3, 5, 4, 4, 5, 3, 4, 5, 4]\n",
        "branch_b_scores = [3, 4, 2, 3, 4, 3, 4, 2, 3, 3, 4, 3, 3, 2, 3, 4, 4, 3, 2, 3, 4, 3, 2, 4, 3, 3, 4, 2, 3, 4, 3]\n",
        "\n",
        "def perform_two_sample_t_test(branch_a_scores, branch_b_scores):\n",
        "    # Calculate the sample means, standard deviations, and sizes\n",
        "    mean_a = np.mean(branch_a_scores)\n",
        "    mean_b = np.mean(branch_b_scores)\n",
        "    std_a = np.std(branch_a_scores, ddof=1)  # Sample standard deviation\n",
        "    std_b = np.std(branch_b_scores, ddof=1)  # Sample standard deviation\n",
        "    n_a = len(branch_a_scores)\n",
        "    n_b = len(branch_b_scores)\n",
        "\n",
        "    # Calculate the t-statistic\n",
        "    t_stat = (mean_a - mean_b) / np.sqrt((std_a**2 / n_a) + (std_b**2 / n_b))\n",
        "\n",
        "    # Calculate the degrees of freedom using the Welch-Satterthwaite equation\n",
        "    numerator = (std_a**2 / n_a + std_b**2 / n_b)**2\n",
        "    denominator = ((std_a**2 / n_a)**2 / (n_a - 1)) + ((std_b**2 / n_b)**2 / (n_b - 1))\n",
        "    df = numerator / denominator\n",
        "\n",
        "    # Calculate the p-value (two-tailed test)\n",
        "    p_value = 2 * (1 - stats.t.cdf(abs(t_stat), df))\n",
        "\n",
        "    return t_stat, df, p_value\n",
        "\n",
        "# Perform the two-sample t-test\n",
        "t_stat, df, p_value = perform_two_sample_t_test(branch_a_scores, branch_b_scores)\n",
        "\n",
        "# Output the results\n",
        "print(f\"T-statistic: {t_stat:.4f}\")\n",
        "print(f\"Degrees of Freedom: {df:.4f}\")\n",
        "print(f\"P-value: {p_value:.4f}\")\n",
        "\n",
        "# Decision based on p-value\n",
        "alpha = 0.05  # significance level\n",
        "if p_value < alpha:\n",
        "    print(\"Reject the null hypothesis: There is a significant difference in customer satisfaction between Branch A and Branch B.\")\n",
        "else:\n",
        "    print(\"Fail to reject the null hypothesis: There is no significant difference in customer satisfaction between Branch A and Branch B.\")\n"
      ],
      "metadata": {
        "colab": {
          "base_uri": "https://localhost:8080/"
        },
        "id": "en1agMtsycv0",
        "outputId": "9b2be7df-fca5-49df-a57d-77da59f46c98"
      },
      "execution_count": 27,
      "outputs": [
        {
          "output_type": "stream",
          "name": "stdout",
          "text": [
            "T-statistic: 5.4801\n",
            "Degrees of Freedom: 60.0000\n",
            "P-value: 0.0000\n",
            "Reject the null hypothesis: There is a significant difference in customer satisfaction between Branch A and Branch B.\n"
          ]
        }
      ]
    },
    {
      "cell_type": "code",
      "source": [],
      "metadata": {
        "id": "40Y-WwJUyjE5"
      },
      "execution_count": null,
      "outputs": []
    },
    {
      "cell_type": "markdown",
      "source": [
        "21. A political analyst wants to determine if there is a significant association between age groups and voter\n",
        "preferences (Candidate A or Candidate B). They collect data from a sample of 500 voters and classify\n",
        "them into different age groups and candidate preferences. Perform a Chi-Square test to determine if\n",
        "there is a significant association between age groups and voter preferences.\n",
        "\n",
        "\n",
        "Use the below code to generate data:\n",
        "\n",
        "```python\n",
        "\n",
        "np.random.seed(0)\n",
        "\n",
        "age_groups = np.random.choice([ 18 30 , 31 50 , 51+', 51+'], size=30)\n",
        "\n",
        "voter_preferences = np.random.choice(['Candidate A', 'Candidate B'], size=30)"
      ],
      "metadata": {
        "id": "NBZFYnNLyu6u"
      }
    },
    {
      "cell_type": "code",
      "source": [
        "import numpy as np\n",
        "import pandas as pd\n",
        "from scipy.stats import chi2_contingency\n",
        "\n",
        "# Generate data\n",
        "np.random.seed(0)\n",
        "age_groups = np.random.choice(['18-30', '31-50', '51+'], size=30)\n",
        "voter_preferences = np.random.choice(['Candidate A', 'Candidate B'], size=30)\n",
        "\n",
        "# Create a DataFrame\n",
        "data = pd.DataFrame({'Age Group': age_groups, 'Voter Preference': voter_preferences})\n",
        "\n",
        "# Create a contingency table\n",
        "contingency_table = pd.crosstab(data['Age Group'], data['Voter Preference'])\n",
        "\n",
        "# Perform Chi-Square test\n",
        "chi2, p_value, dof, expected = chi2_contingency(contingency_table)\n",
        "\n",
        "# Output the results\n",
        "print(\"Contingency Table:\")\n",
        "print(contingency_table)\n",
        "print(\"\\nChi-Square Test Results:\")\n",
        "print(f\"Chi-Square Value: {chi2}\")\n",
        "print(f\"Degrees of Freedom: {dof}\")\n",
        "print(f\"P-value: {p_value}\")\n",
        "\n",
        "# Decision based on p-value\n",
        "alpha = 0.05  # significance level\n",
        "if p_value < alpha:\n",
        "    print(\"Reject the null hypothesis: There is a significant association between age groups and voter preferences.\")\n",
        "else:\n",
        "    print(\"Fail to reject the null hypothesis: There is no significant association between age groups and voter preferences.\")\n"
      ],
      "metadata": {
        "colab": {
          "base_uri": "https://localhost:8080/"
        },
        "id": "MGTbjK0my0gx",
        "outputId": "7a4e0c08-c6e0-4923-8ae7-9364067f4fcf"
      },
      "execution_count": 28,
      "outputs": [
        {
          "output_type": "stream",
          "name": "stdout",
          "text": [
            "Contingency Table:\n",
            "Voter Preference  Candidate A  Candidate B\n",
            "Age Group                                 \n",
            "18-30                       4            8\n",
            "31-50                       6            5\n",
            "51+                         4            3\n",
            "\n",
            "Chi-Square Test Results:\n",
            "Chi-Square Value: 1.4401669758812612\n",
            "Degrees of Freedom: 2\n",
            "P-value: 0.48671161971286614\n",
            "Fail to reject the null hypothesis: There is no significant association between age groups and voter preferences.\n"
          ]
        }
      ]
    },
    {
      "cell_type": "code",
      "source": [],
      "metadata": {
        "id": "wG9LmOoqy_dI"
      },
      "execution_count": null,
      "outputs": []
    },
    {
      "cell_type": "markdown",
      "source": [
        "22. A company conducted a customer satisfaction survey to determine if there is a significant relationship\n",
        "between product satisfaction levels (Satisfied, Neutral, Dissatisfied) and the region where customers are\n",
        "located (East, West, North, South). The survey data is summarized in a contingency table. Conduct a ChiSquare test to determine if there is a significant relationship between product satisfaction levels and\n",
        "customer regions.\n",
        "\n",
        "\n",
        "Sample data:\n",
        "\n",
        "```python\n",
        "\n",
        "#Sample data: Product satisfaction levels (rows) vs. Customer regions (columns)\n",
        "\n",
        "data = np.array([[50, 30, 40, 20], [30, 40, 30, 50], [20, 30, 40, 30]])\n",
        "\n",
        "```"
      ],
      "metadata": {
        "id": "Y94r2sauzEMD"
      }
    },
    {
      "cell_type": "code",
      "source": [
        "import numpy as np\n",
        "from scipy.stats import chi2_contingency\n",
        "\n",
        "# Sample data: Product satisfaction levels (rows) vs. Customer regions (columns)\n",
        "data = np.array([[50, 30, 40, 20], [30, 40, 30, 50], [20, 30, 40, 30]])\n",
        "\n",
        "# Perform the Chi-Square test\n",
        "chi2, p_value, dof, expected = chi2_contingency(data)\n",
        "\n",
        "# Output the results\n",
        "print(\"Observed Data (Contingency Table):\")\n",
        "print(data)\n",
        "print(\"\\nChi-Square Test Results:\")\n",
        "print(f\"Chi-Square Value: {chi2}\")\n",
        "print(f\"Degrees of Freedom: {dof}\")\n",
        "print(f\"P-value: {p_value}\")\n",
        "print(f\"Expected Frequencies: \\n{expected}\")\n",
        "\n",
        "# Decision based on p-value\n",
        "alpha = 0.05  # significance level\n",
        "if p_value < alpha:\n",
        "    print(\"Reject the null hypothesis: There is a significant relationship between product satisfaction levels and customer regions.\")\n",
        "else:\n",
        "    print(\"Fail to reject the null hypothesis: There is no significant relationship between product satisfaction levels and customer regions.\")\n"
      ],
      "metadata": {
        "colab": {
          "base_uri": "https://localhost:8080/"
        },
        "id": "hBcVHZO4zE-_",
        "outputId": "51a02643-e61d-4066-c886-9b9f1f8a35aa"
      },
      "execution_count": 29,
      "outputs": [
        {
          "output_type": "stream",
          "name": "stdout",
          "text": [
            "Observed Data (Contingency Table):\n",
            "[[50 30 40 20]\n",
            " [30 40 30 50]\n",
            " [20 30 40 30]]\n",
            "\n",
            "Chi-Square Test Results:\n",
            "Chi-Square Value: 27.777056277056275\n",
            "Degrees of Freedom: 6\n",
            "P-value: 0.00010349448486004387\n",
            "Expected Frequencies: \n",
            "[[34.14634146 34.14634146 37.56097561 34.14634146]\n",
            " [36.58536585 36.58536585 40.24390244 36.58536585]\n",
            " [29.26829268 29.26829268 32.19512195 29.26829268]]\n",
            "Reject the null hypothesis: There is a significant relationship between product satisfaction levels and customer regions.\n"
          ]
        }
      ]
    },
    {
      "cell_type": "code",
      "source": [],
      "metadata": {
        "id": "5zJOXRp4zNyJ"
      },
      "execution_count": null,
      "outputs": []
    },
    {
      "cell_type": "markdown",
      "source": [
        " 23. A company implemented an employee training program to improve job performance (Effective, Neutral,\n",
        "Ineffective). After the training, they collected data from a sample of employees and classified them based\n",
        "on their job performance before and after the training. Perform a Chi-Square test to determine if there is a\n",
        "significant difference between job performance levels before and after the training.\n",
        "\n",
        "\n",
        "Sample data:\n",
        "\n",
        "```python\n",
        "\n",
        "# Sample data: Job performance levels before (rows) and after (columns) training\n",
        "\n",
        "data = np.array([[50, 30, 20], [30, 40, 30], [20, 30, 40]])\n",
        "\n",
        "```"
      ],
      "metadata": {
        "id": "xNDmJFRXzYCr"
      }
    },
    {
      "cell_type": "code",
      "source": [
        "import numpy as np\n",
        "from scipy.stats import chi2_contingency\n",
        "\n",
        "# Sample data: Job performance levels before (rows) and after (columns) training\n",
        "data = np.array([[50, 30, 20], [30, 40, 30], [20, 30, 40]])\n",
        "\n",
        "# Perform the Chi-Square test\n",
        "chi2, p_value, dof, expected = chi2_contingency(data)\n",
        "\n",
        "# Output the results\n",
        "print(\"Observed Data (Contingency Table):\")\n",
        "print(data)\n",
        "print(\"\\nChi-Square Test Results:\")\n",
        "print(f\"Chi-Square Value: {chi2}\")\n",
        "print(f\"Degrees of Freedom: {dof}\")\n",
        "print(f\"P-value: {p_value}\")\n",
        "print(f\"Expected Frequencies: \\n{expected}\")\n",
        "\n",
        "# Decision based on p-value\n",
        "alpha = 0.05  # significance level\n",
        "if p_value < alpha:\n",
        "    print(\"Reject the null hypothesis: There is a significant difference in job performance levels before and after the training.\")\n",
        "else:\n",
        "    print(\"Fail to reject the null hypothesis: There is no significant difference in job performance levels before and after the training.\")\n"
      ],
      "metadata": {
        "colab": {
          "base_uri": "https://localhost:8080/"
        },
        "id": "VIxFReeUzYl_",
        "outputId": "f4ebedcd-06ad-4826-e179-9da1920dc140"
      },
      "execution_count": 30,
      "outputs": [
        {
          "output_type": "stream",
          "name": "stdout",
          "text": [
            "Observed Data (Contingency Table):\n",
            "[[50 30 20]\n",
            " [30 40 30]\n",
            " [20 30 40]]\n",
            "\n",
            "Chi-Square Test Results:\n",
            "Chi-Square Value: 22.161728395061726\n",
            "Degrees of Freedom: 4\n",
            "P-value: 0.00018609719479882557\n",
            "Expected Frequencies: \n",
            "[[34.48275862 34.48275862 31.03448276]\n",
            " [34.48275862 34.48275862 31.03448276]\n",
            " [31.03448276 31.03448276 27.93103448]]\n",
            "Reject the null hypothesis: There is a significant difference in job performance levels before and after the training.\n"
          ]
        }
      ]
    },
    {
      "cell_type": "code",
      "source": [],
      "metadata": {
        "id": "KZA2h0TMzdvh"
      },
      "execution_count": null,
      "outputs": []
    },
    {
      "cell_type": "markdown",
      "source": [
        "24. A company produces three different versions of a product: Standard, Premium, and Deluxe. The\n",
        "company wants to determine if there is a significant difference in customer satisfaction scores among the\n",
        "three product versions. They conducted a survey and collected customer satisfaction scores for each\n",
        "version from a random sample of customers. Perform an ANOVA test to determine if there is a significant\n",
        "difference in customer satisfaction scores.\n",
        "\n",
        "\n",
        "  Use the following data:\n",
        "\n",
        "  ```python\n",
        "\n",
        "  # Sample data: Customer satisfaction scores for each product version\n",
        "\n",
        "  standard_scores = [80, 85, 90, 78, 88, 82, 92, 78, 85, 87]\n",
        "\n",
        "  premium_scores = [90, 92, 88, 92, 95, 91, 96, 93, 89, 93]\n",
        "\n",
        "  deluxe_scores = [95, 98, 92, 97, 96, 94, 98, 97, 92, 99]\n",
        "\n",
        "  ```"
      ],
      "metadata": {
        "id": "Ey6hXaPZzfHi"
      }
    },
    {
      "cell_type": "code",
      "source": [
        "import numpy as np\n",
        "from scipy.stats import f_oneway\n",
        "\n",
        "# Sample data: Customer satisfaction scores for each product version\n",
        "standard_scores = [80, 85, 90, 78, 88, 82, 92, 78, 85, 87]\n",
        "premium_scores = [90, 92, 88, 92, 95, 91, 96, 93, 89, 93]\n",
        "deluxe_scores = [95, 98, 92, 97, 96, 94, 98, 97, 92, 99]\n",
        "\n",
        "# Perform the ANOVA test\n",
        "f_statistic, p_value = f_oneway(standard_scores, premium_scores, deluxe_scores)\n",
        "\n",
        "# Output the results\n",
        "print(\"ANOVA Test Results:\")\n",
        "print(f\"F-statistic: {f_statistic}\")\n",
        "print(f\"P-value: {p_value}\")\n",
        "\n",
        "# Decision based on p-value\n",
        "alpha = 0.05  # significance level\n",
        "if p_value < alpha:\n",
        "    print(\"Reject the null hypothesis: There is a significant difference in customer satisfaction scores among the product versions.\")\n",
        "else:\n",
        "    print(\"Fail to reject the null hypothesis: There is no significant difference in customer satisfaction scores among the product versions.\")\n"
      ],
      "metadata": {
        "colab": {
          "base_uri": "https://localhost:8080/"
        },
        "id": "PMZ1DKlszj8c",
        "outputId": "8bc87e62-3a53-49ee-865f-a88595476a1a"
      },
      "execution_count": 31,
      "outputs": [
        {
          "output_type": "stream",
          "name": "stdout",
          "text": [
            "ANOVA Test Results:\n",
            "F-statistic: 27.03556231003039\n",
            "P-value: 3.5786328857349003e-07\n",
            "Reject the null hypothesis: There is a significant difference in customer satisfaction scores among the product versions.\n"
          ]
        }
      ]
    },
    {
      "cell_type": "code",
      "source": [],
      "metadata": {
        "id": "5MYUtEtvzpgv"
      },
      "execution_count": null,
      "outputs": []
    }
  ],
  "metadata": {
    "colab": {
      "provenance": []
    },
    "kernelspec": {
      "display_name": "Python 3",
      "name": "python3"
    },
    "language_info": {
      "name": "python"
    }
  },
  "nbformat": 4,
  "nbformat_minor": 0
}